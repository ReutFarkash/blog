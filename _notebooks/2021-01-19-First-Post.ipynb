{
  "nbformat": 4,
  "nbformat_minor": 0,
  "metadata": {
    "kernelspec": {
      "display_name": "visualization-curriculum-gF8wUgMm",
      "language": "python",
      "name": "visualization-curriculum-gf8wugmm"
    },
    "language_info": {
      "codemirror_mode": {
        "name": "ipython",
        "version": 3
      },
      "file_extension": ".py",
      "mimetype": "text/x-python",
      "name": "python",
      "nbconvert_exporter": "python",
      "pygments_lexer": "ipython3",
      "version": "3.6.7"
    },
    "varInspector": {
      "cols": {
        "lenName": 16,
        "lenType": 16,
        "lenVar": 40
      },
      "kernels_config": {
        "python": {
          "delete_cmd_postfix": "",
          "delete_cmd_prefix": "del ",
          "library": "var_list.py",
          "varRefreshCmd": "print(var_dic_list())"
        },
        "r": {
          "delete_cmd_postfix": ") ",
          "delete_cmd_prefix": "rm(",
          "library": "var_list.r",
          "varRefreshCmd": "cat(var_dic_list()) "
        }
      },
      "types_to_exclude": [
        "module",
        "function",
        "builtin_function_or_method",
        "instance",
        "_Feature"
      ],
      "window_display": false
    },
    "colab": {
      "name": "2021-01-19-First-Post.ipynb",
      "provenance": []
    }
  },
  "cells": [
    {
      "cell_type": "markdown",
      "metadata": {
        "id": "EAK_TzYpY6BX"
      },
      "source": [
        "# \"First Post\"\n",
        "> \"Awesome summary\"\n",
        " \n",
        "- toc: true\n",
        "- branch: master\n",
        "- badges: true\n",
        "- comments: true\n",
        "- author: Reut Farkash\n",
        "- categories: [testingthings, jupyter]"
      ]
    },
    {
      "cell_type": "markdown",
      "metadata": {
        "id": "i4HfNza7PvnQ"
      },
      "source": [
        "# My First Fastpages Notebook Blog Post\n",
        "> Trying to blog to better keep track of the best resources I come across."
      ]
    },
    {
      "cell_type": "markdown",
      "metadata": {
        "id": "Kf9U9gl7Pvnb"
      },
      "source": [
        "# To create a similar blog:\n",
        "\n",
        "[fastpages github](https://github.com/fastai/fastpages)<br>\n",
        "[1littlecoder tutorial vid](https://www.youtube.com/watch?v=L0boq3zqazI&ab_channel=1littlecoder)\n"
      ]
    },
    {
      "cell_type": "markdown",
      "metadata": {
        "id": "wpOZxUV3Rr4U"
      },
      "source": [
        "# Top Deep learning playlists:<br>\n",
        "[CS231n Winter 2016](https://www.youtube.com/watch?v=NfnWJUyUJYU&list=PLkt2uSq6rBVctENoVBg1TpCC7OQi31AlC) - Stanford - Deep learning for computer vision<br>\n"
      ]
    },
    {
      "cell_type": "markdown",
      "metadata": {
        "id": "INiuReM-eKTC"
      },
      "source": [
        "# Git / GitHub"
      ]
    },
    {
      "cell_type": "markdown",
      "metadata": {
        "id": "p5zJejgEeOja"
      },
      "source": [
        "# Python"
      ]
    },
    {
      "cell_type": "markdown",
      "metadata": {
        "id": "9u2RaFV_eOLD"
      },
      "source": [
        "# Data Structures and Algorithms"
      ]
    },
    {
      "cell_type": "markdown",
      "metadata": {
        "id": "aihZIFpPei88"
      },
      "source": [
        "# Ethics"
      ]
    },
    {
      "cell_type": "markdown",
      "metadata": {
        "id": "vmAHCIukeizG"
      },
      "source": [
        "# Biology"
      ]
    },
    {
      "cell_type": "markdown",
      "metadata": {
        "id": "KJKpO0WOeiqA"
      },
      "source": [
        "# Statistics"
      ]
    },
    {
      "cell_type": "markdown",
      "metadata": {
        "id": "V3hEtl-Pe-cV"
      },
      "source": [
        "# Causal Inference"
      ]
    },
    {
      "cell_type": "code",
      "metadata": {
        "id": "scqm79Jje8rY"
      },
      "source": [
        ""
      ],
      "execution_count": null,
      "outputs": []
    }
  ]
}