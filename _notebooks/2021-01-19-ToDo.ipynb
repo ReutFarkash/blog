{
  "nbformat": 4,
  "nbformat_minor": 0,
  "metadata": {
    "kernelspec": {
      "display_name": "visualization-curriculum-gF8wUgMm",
      "language": "python",
      "name": "visualization-curriculum-gf8wugmm"
    },
    "language_info": {
      "codemirror_mode": {
        "name": "ipython",
        "version": 3
      },
      "file_extension": ".py",
      "mimetype": "text/x-python",
      "name": "python",
      "nbconvert_exporter": "python",
      "pygments_lexer": "ipython3",
      "version": "3.6.7"
    },
    "varInspector": {
      "cols": {
        "lenName": 16,
        "lenType": 16,
        "lenVar": 40
      },
      "kernels_config": {
        "python": {
          "delete_cmd_postfix": "",
          "delete_cmd_prefix": "del ",
          "library": "var_list.py",
          "varRefreshCmd": "print(var_dic_list())"
        },
        "r": {
          "delete_cmd_postfix": ") ",
          "delete_cmd_prefix": "rm(",
          "library": "var_list.r",
          "varRefreshCmd": "cat(var_dic_list()) "
        }
      },
      "types_to_exclude": [
        "module",
        "function",
        "builtin_function_or_method",
        "instance",
        "_Feature"
      ],
      "window_display": false
    },
    "colab": {
      "name": "2021-01-19-ToDo.ipynb",
      "provenance": []
    }
  },
  "cells": [
    {
      "cell_type": "markdown",
      "metadata": {
        "id": "EAK_TzYpY6BX"
      },
      "source": [
        "# \"ToDo\"\n",
        "> \"Thing I want to get to\"\n",
        " \n",
        "- toc: true\n",
        "- branch: master\n",
        "- badges: true\n",
        "- comments: true\n",
        "- author: Reut Farkash\n",
        "- categories: [Learning, ToDo]"
      ]
    },
    {
      "cell_type": "markdown",
      "metadata": {
        "id": "i4HfNza7PvnQ"
      },
      "source": [
        "# From the FastAI course\n",
        "[fastai: A Layered API for Deep Learning](https://arxiv.org/abs/2002.04688) - paper mentioned in the first lesson"
      ]
    },
    {
      "cell_type": "markdown",
      "metadata": {
        "id": "wpOZxUV3Rr4U"
      },
      "source": [
        "# Courses:<br>\n",
        "[CS231n Winter 2016](https://www.youtube.com/watch?v=NfnWJUyUJYU&list=PLkt2uSq6rBVctENoVBg1TpCC7OQi31AlC) - Stanford - Deep learning for computer vision<br>\n",
        "[Practical Deep Learning for Coders (2020)](https://www.youtube.com/playlist?list=PLfYUBJiXbdtRL3FMB3GoWHRI8ieU6FhfM) - FastAI<br>\n",
        "[CS224N: Natural Language Processing with Deep Learning | Winter 2019](https://www.youtube.com/playlist?list=PLoROMvodv4rOhcuXMZkNm7j3fVwBBY42z) - Stanford <br>\n"
      ]
    },
    {
      "cell_type": "markdown",
      "metadata": {
        "id": "Eg2Ysg6dSXmb"
      },
      "source": [
        "# To be continued..."
      ]
    }
  ]
}